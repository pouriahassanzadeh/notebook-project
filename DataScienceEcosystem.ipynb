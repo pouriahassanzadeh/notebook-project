{
 "cells": [
  {
   "cell_type": "markdown",
   "id": "65ae953a-e7a1-4e83-9bf3-9fdb19a67c2b",
   "metadata": {},
   "source": [
    "<h1>Data Science Tools and Ecosystem<h1>"
   ]
  },
  {
   "cell_type": "markdown",
   "id": "b5cad387-fc68-4465-8908-62796c89dd02",
   "metadata": {},
   "source": [
    "In this notebook, Data Science Tools and Ecosystem are summarized."
   ]
  },
  {
   "cell_type": "markdown",
   "id": "607bc909-16b2-4946-9f60-ae104dc68c03",
   "metadata": {},
   "source": [
    "Some of the popular languages that Data Scientists use are:\n",
    "1. python\n",
    "2. R\n",
    "3. scala\n",
    "4. java"
   ]
  },
  {
   "cell_type": "markdown",
   "id": "50a1168d-d172-400c-ba37-2f20de7061d4",
   "metadata": {},
   "source": [
    "Some of the commonly used libraries used by Data Scientists include:\n",
    "   1. numpy\n",
    "   2. scipy\n",
    "   3. pandas\n",
    "   4. pytorch"
   ]
  },
  {
   "cell_type": "markdown",
   "id": "b72b53ba-f85c-4c59-bcb3-9be960564a8d",
   "metadata": {},
   "source": [
    "|Data Science Tools|\n",
    "|----|\n",
    "|Data management|\n",
    "|Data visualization |\n",
    "|Data Transformation|"
   ]
  },
  {
   "cell_type": "markdown",
   "id": "3e96b9e0-125d-4353-89b7-bd9d25093b86",
   "metadata": {},
   "source": [
    "<H3>Below are a few examples of evaluating arithmetic expressions in Python<H3>\n",
    "    \n",
    "1. Combine everything into an expression\n",
    "2. Confirm that the expression is valid in Python\n",
    "3. Evaluate the final expression and return the result"
   ]
  },
  {
   "cell_type": "code",
   "execution_count": 4,
   "id": "89ebbdd2-367e-4971-8117-56ffc3a6ba11",
   "metadata": {
    "tags": []
   },
   "outputs": [
    {
     "data": {
      "text/plain": [
       "17"
      ]
     },
     "execution_count": 4,
     "metadata": {},
     "output_type": "execute_result"
    }
   ],
   "source": [
    "#This a simple arithmetic expression to mutiply then add integers\n",
    "(3*4)+5\n"
   ]
  },
  {
   "cell_type": "code",
   "execution_count": 7,
   "id": "11711800-a66a-4921-9a8d-acb7542c6519",
   "metadata": {
    "tags": []
   },
   "outputs": [
    {
     "name": "stdout",
     "output_type": "stream",
     "text": [
      "3.3333333333333335\n"
     ]
    }
   ],
   "source": [
    "#This will convert 200 minutes to hours by diving by 60\n",
    "min=200\n",
    "H=min/60\n",
    "print(H)"
   ]
  },
  {
   "cell_type": "markdown",
   "id": "5f856e0f-2b73-44fd-8385-6d6a8c87d599",
   "metadata": {
    "tags": []
   },
   "source": [
    "**In this notebook, Data Science Tools and Ecosystem are summarized.**\n",
    "* Open Source Tools for Data Science\n",
    "* Languages of Data Science\n",
    "* Libraries for Data Science\n",
    "* Application Programming Interfaces (APIs)"
   ]
  },
  {
   "cell_type": "markdown",
   "id": "036995e7-20a2-47fd-bdfe-54287157b679",
   "metadata": {},
   "source": [
    "## Author:<br>\n",
    "Pouria Hassanzadeh"
   ]
  },
  {
   "cell_type": "markdown",
   "id": "4403c1a3-dbe6-43da-aad1-ede2ecaeca15",
   "metadata": {},
   "source": []
  }
 ],
 "metadata": {
  "kernelspec": {
   "display_name": "Python",
   "language": "python",
   "name": "conda-env-python-py"
  },
  "language_info": {
   "codemirror_mode": {
    "name": "ipython",
    "version": 3
   },
   "file_extension": ".py",
   "mimetype": "text/x-python",
   "name": "python",
   "nbconvert_exporter": "python",
   "pygments_lexer": "ipython3",
   "version": "3.7.12"
  }
 },
 "nbformat": 4,
 "nbformat_minor": 5
}
